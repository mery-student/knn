{
  "nbformat": 4,
  "nbformat_minor": 0,
  "metadata": {
    "colab": {
      "provenance": [],
      "gpuType": "T4",
      "authorship_tag": "ABX9TyOZGwd2hxiOgfRTNS6rW2j4",
      "include_colab_link": true
    },
    "kernelspec": {
      "name": "python3",
      "display_name": "Python 3"
    },
    "language_info": {
      "name": "python"
    },
    "accelerator": "GPU"
  },
  "cells": [
    {
      "cell_type": "markdown",
      "metadata": {
        "id": "view-in-github",
        "colab_type": "text"
      },
      "source": [
        "<a href=\"https://colab.research.google.com/github/mery-student/knn/blob/main/cnn_1.ipynb\" target=\"_parent\"><img src=\"https://colab.research.google.com/assets/colab-badge.svg\" alt=\"Open In Colab\"/></a>"
      ]
    },
    {
      "cell_type": "code",
      "execution_count": null,
      "metadata": {
        "colab": {
          "base_uri": "https://localhost:8080/"
        },
        "id": "dL1AaeOp1gi7",
        "outputId": "bbe16b1a-3f65-45dd-b1d8-78edab114005"
      },
      "outputs": [
        {
          "output_type": "stream",
          "name": "stdout",
          "text": [
            "Mounted at /content/gdrive\n",
            "Downloading data from https://www.cs.toronto.edu/~kriz/cifar-10-python.tar.gz\n",
            "170498071/170498071 [==============================] - 2s 0us/step\n",
            "Epoch 1/20\n",
            "1563/1563 [==============================] - 13s 5ms/step - loss: 1.5190 - accuracy: 0.4467 - val_loss: 1.2099 - val_accuracy: 0.5626\n",
            "Epoch 2/20\n",
            "1563/1563 [==============================] - 8s 5ms/step - loss: 1.1315 - accuracy: 0.5980 - val_loss: 1.0989 - val_accuracy: 0.6118\n",
            "Epoch 3/20\n",
            "1563/1563 [==============================] - 7s 5ms/step - loss: 0.9836 - accuracy: 0.6527 - val_loss: 1.0017 - val_accuracy: 0.6415\n",
            "Epoch 4/20\n",
            "1563/1563 [==============================] - 10s 6ms/step - loss: 0.8873 - accuracy: 0.6873 - val_loss: 0.9568 - val_accuracy: 0.6641\n",
            "Epoch 5/20\n",
            "1563/1563 [==============================] - 8s 5ms/step - loss: 0.8174 - accuracy: 0.7140 - val_loss: 0.9178 - val_accuracy: 0.6828\n",
            "Epoch 6/20\n",
            "1563/1563 [==============================] - 7s 4ms/step - loss: 0.7633 - accuracy: 0.7330 - val_loss: 0.8969 - val_accuracy: 0.6903\n",
            "Epoch 7/20\n",
            "1563/1563 [==============================] - 8s 5ms/step - loss: 0.7138 - accuracy: 0.7512 - val_loss: 0.8886 - val_accuracy: 0.6954\n",
            "Epoch 8/20\n",
            "1563/1563 [==============================] - 7s 4ms/step - loss: 0.6683 - accuracy: 0.7672 - val_loss: 0.8938 - val_accuracy: 0.6967\n",
            "Epoch 9/20\n",
            "1563/1563 [==============================] - 8s 5ms/step - loss: 0.6281 - accuracy: 0.7805 - val_loss: 0.8974 - val_accuracy: 0.6929\n",
            "Epoch 10/20\n",
            "1563/1563 [==============================] - 7s 4ms/step - loss: 0.5918 - accuracy: 0.7925 - val_loss: 0.8470 - val_accuracy: 0.7160\n",
            "Epoch 11/20\n",
            "1563/1563 [==============================] - 8s 5ms/step - loss: 0.5590 - accuracy: 0.8033 - val_loss: 0.8810 - val_accuracy: 0.7136\n",
            "Epoch 12/20\n",
            "1563/1563 [==============================] - 7s 4ms/step - loss: 0.5196 - accuracy: 0.8160 - val_loss: 0.8990 - val_accuracy: 0.7157\n",
            "Epoch 13/20\n",
            "1563/1563 [==============================] - 8s 5ms/step - loss: 0.4885 - accuracy: 0.8271 - val_loss: 0.9182 - val_accuracy: 0.7140\n",
            "Epoch 14/20\n",
            "1563/1563 [==============================] - 7s 4ms/step - loss: 0.4575 - accuracy: 0.8402 - val_loss: 0.9732 - val_accuracy: 0.7008\n",
            "Epoch 15/20\n",
            "1563/1563 [==============================] - 8s 5ms/step - loss: 0.4350 - accuracy: 0.8475 - val_loss: 0.9363 - val_accuracy: 0.7173\n",
            "Epoch 16/20\n",
            "1563/1563 [==============================] - 7s 4ms/step - loss: 0.4097 - accuracy: 0.8558 - val_loss: 1.0233 - val_accuracy: 0.7103\n",
            "Epoch 17/20\n",
            "1563/1563 [==============================] - 9s 5ms/step - loss: 0.3761 - accuracy: 0.8667 - val_loss: 1.0753 - val_accuracy: 0.7030\n",
            "Epoch 18/20\n",
            "1563/1563 [==============================] - 7s 4ms/step - loss: 0.3535 - accuracy: 0.8751 - val_loss: 1.0649 - val_accuracy: 0.7082\n",
            "Epoch 19/20\n",
            "1563/1563 [==============================] - 8s 5ms/step - loss: 0.3296 - accuracy: 0.8828 - val_loss: 1.1288 - val_accuracy: 0.7033\n",
            "Epoch 20/20\n",
            "1563/1563 [==============================] - 7s 5ms/step - loss: 0.3079 - accuracy: 0.8909 - val_loss: 1.1699 - val_accuracy: 0.7053\n",
            "313/313 - 1s - loss: 1.1802 - accuracy: 0.7093 - 891ms/epoch - 3ms/step\n",
            "Test accuracy: 0.7093\n",
            "313/313 [==============================] - 1s 2ms/step\n",
            "Actual class: 3, Predicted class: 3\n",
            "Actual class: 8, Predicted class: 8\n",
            "Actual class: 8, Predicted class: 0\n",
            "Actual class: 0, Predicted class: 0\n",
            "Actual class: 6, Predicted class: 4\n",
            "Actual class: 6, Predicted class: 6\n",
            "Actual class: 1, Predicted class: 1\n",
            "Actual class: 6, Predicted class: 6\n",
            "Actual class: 3, Predicted class: 3\n",
            "Actual class: 1, Predicted class: 1\n"
          ]
        }
      ],
      "source": [
        "import tensorflow as tf\n",
        "from tensorflow.keras import datasets, layers, models\n",
        "from google.colab import drive\n",
        "\n",
        "# Mount the Google Drive\n",
        "drive.mount('/content/gdrive')\n",
        "\n",
        "# Load the CIFAR-10 dataset\n",
        "(train_images, train_labels), (test_images, test_labels) = datasets.cifar10.load_data()\n",
        "\n",
        "# Normalize the pixel values\n",
        "train_images, test_images = train_images / 255.0, test_images / 255.0\n",
        "\n",
        "# Load the pre-trained model weights\n",
        "model = models.Sequential()\n",
        "model.add(layers.Conv2D(32, (3, 3), activation='relu', input_shape=(32, 32, 3)))\n",
        "model.add(layers.MaxPooling2D((2, 2)))\n",
        "model.add(layers.Conv2D(64, (3, 3), activation='relu'))\n",
        "model.add(layers.MaxPooling2D((2, 2)))\n",
        "model.add(layers.Conv2D(64, (3, 3), activation='relu'))\n",
        "model.add(layers.Flatten())\n",
        "model.add(layers.Dense(64, activation='relu'))\n",
        "model.add(layers.Dense(10))\n",
        "\n",
        "model.compile(optimizer='adam',\n",
        "              loss=tf.keras.losses.SparseCategoricalCrossentropy(from_logits=True),\n",
        "              metrics=['accuracy'])\n",
        "history = model.fit(train_images, train_labels, epochs=20,\n",
        "                    validation_data=(test_images, test_labels))\n",
        "\n",
        "model.load_weights('/content/gdrive/My Drive/model_weights.h5')\n",
        "\n",
        "# Evaluate the model on the test set\n",
        "test_loss, test_acc = model.evaluate(test_images, test_labels, verbose=2)\n",
        "print(f'Test accuracy: {test_acc:.4f}')\n",
        "\n",
        "# Predict the classes of the test images\n",
        "predictions = model.predict(test_images)\n",
        "predicted_classes = tf.argmax(predictions, axis=1)\n",
        "\n",
        "# Print the predicted classes for the first 10 test images\n",
        "for i in range(10):\n",
        "    print(f'Actual class: {test_labels[i][0]}, Predicted class: {predicted_classes[i]}')"
      ]
    }
  ]
}