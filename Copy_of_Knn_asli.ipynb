{
  "nbformat": 4,
  "nbformat_minor": 0,
  "metadata": {
    "colab": {
      "provenance": [],
      "gpuType": "T4",
      "authorship_tag": "ABX9TyNKW9pH1z52j8VOeQGiS8VC",
      "include_colab_link": true
    },
    "kernelspec": {
      "name": "python3",
      "display_name": "Python 3"
    },
    "language_info": {
      "name": "python"
    }
  },
  "cells": [
    {
      "cell_type": "markdown",
      "metadata": {
        "id": "view-in-github",
        "colab_type": "text"
      },
      "source": [
        "<a href=\"https://colab.research.google.com/github/mery-student/knn/blob/main/Copy_of_Knn_asli.ipynb\" target=\"_parent\"><img src=\"https://colab.research.google.com/assets/colab-badge.svg\" alt=\"Open In Colab\"/></a>"
      ]
    },
    {
      "cell_type": "code",
      "source": [
        "import numpy as np\n",
        "\n",
        "class NearestNeighbor:\n",
        "    def __init__(self, k=2):\n",
        "        self.k = k\n",
        "\n",
        "    def train(self, X, y):\n",
        "        self.X_train = X\n",
        "        self.y_train = y\n",
        "\n",
        "    def predict(self, X):\n",
        "        num_test = X.shape[0]\n",
        "        y_pred = np.zeros(num_test, dtype=self.y_train.dtype)\n",
        "\n",
        "        for i in range(num_test):\n",
        "            distances = np.sum(np.abs(self.X_train - X[i, :]) ** 2, axis=1)\n",
        "            min_index = np.argmin(distances)\n",
        "            y_pred[i] = self.y_train[min_index]\n",
        "\n",
        "        return y_pred\n",
        "\n",
        "       # y_pred = [self._predict(x) for x in X]\n",
        "       # return np.array(y_pred)"
      ],
      "metadata": {
        "id": "v-pCpSRbhceB"
      },
      "execution_count": null,
      "outputs": []
    },
    {
      "cell_type": "code",
      "source": [
        "knn = NearestNeighbor()"
      ],
      "metadata": {
        "id": "cu1TFQdgrrwG"
      },
      "execution_count": null,
      "outputs": []
    },
    {
      "cell_type": "code",
      "source": [
        "X_train = ...\n",
        "y_train = ..."
      ],
      "metadata": {
        "id": "WVZLTpO5sJbV"
      },
      "execution_count": null,
      "outputs": []
    },
    {
      "cell_type": "code",
      "source": [
        "knn.train(X_train, y_train)"
      ],
      "metadata": {
        "id": "4rlX5z-Nrroo"
      },
      "execution_count": null,
      "outputs": []
    },
    {
      "cell_type": "code",
      "source": [
        "def train(self, X, y):\n",
        "    self.Xter = X\n",
        "    self.ytr = y"
      ],
      "metadata": {
        "id": "tTakJJyQtBaf"
      },
      "execution_count": null,
      "outputs": []
    },
    {
      "cell_type": "code",
      "source": [
        "X_test = np.array([[...], [...], [...]], dtype=object)"
      ],
      "metadata": {
        "id": "CSnC1Y_9tt8r"
      },
      "execution_count": null,
      "outputs": []
    },
    {
      "cell_type": "code",
      "source": [
        "X_test = np.array(X_test)"
      ],
      "metadata": {
        "id": "GVzhDjGwtt1m"
      },
      "execution_count": null,
      "outputs": []
    },
    {
      "cell_type": "code",
      "source": [
        "ypred = knn.predict(X_test)"
      ],
      "metadata": {
        "colab": {
          "base_uri": "https://localhost:8080/",
          "height": 141
        },
        "id": "EsOTcKt_tttq",
        "outputId": "ff0b1281-5560-490e-dd97-ae120eec56db"
      },
      "execution_count": 7,
      "outputs": [
        {
          "output_type": "error",
          "ename": "NameError",
          "evalue": "name 'knn' is not defined",
          "traceback": [
            "\u001b[0;31m---------------------------------------------------------------------------\u001b[0m",
            "\u001b[0;31mNameError\u001b[0m                                 Traceback (most recent call last)",
            "\u001b[0;32m<ipython-input-7-2d62f6a88a08>\u001b[0m in \u001b[0;36m<cell line: 1>\u001b[0;34m()\u001b[0m\n\u001b[0;32m----> 1\u001b[0;31m \u001b[0mypred\u001b[0m \u001b[0;34m=\u001b[0m \u001b[0mknn\u001b[0m\u001b[0;34m.\u001b[0m\u001b[0mpredict\u001b[0m\u001b[0;34m(\u001b[0m\u001b[0mX_test\u001b[0m\u001b[0;34m)\u001b[0m\u001b[0;34m\u001b[0m\u001b[0;34m\u001b[0m\u001b[0m\n\u001b[0m",
            "\u001b[0;31mNameError\u001b[0m: name 'knn' is not defined"
          ]
        }
      ]
    }
  ]
}